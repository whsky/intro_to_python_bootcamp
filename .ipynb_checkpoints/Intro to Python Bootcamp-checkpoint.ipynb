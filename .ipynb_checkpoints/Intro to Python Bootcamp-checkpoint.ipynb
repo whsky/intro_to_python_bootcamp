{
 "cells": [
  {
   "cell_type": "markdown",
   "metadata": {},
   "source": [
    "# Movie Data Analysis\n",
    "\n",
    "Let's use some movie data to learn about using Python to analyze data using Pandas.\n",
    "\n",
    "We will be using data from The Movie Database (TMDB) to answer some basic questions."
   ]
  },
  {
   "cell_type": "code",
   "execution_count": 1,
   "metadata": {},
   "outputs": [],
   "source": [
    "# First things first let's import some libraries:\n",
    "import pandas as pd\n",
    "import seaborn as sns\n",
    "\n",
    "%matplotlib inline"
   ]
  },
  {
   "cell_type": "markdown",
   "metadata": {},
   "source": [
    "# Python Basics\n",
    "\n",
    "We can tell python that we can create variables just using the `=` operator to assign a value to a new variabe.\n",
    "\n",
    "All we need to do is something like this:\n",
    "```Python\n",
    "a = 3\n",
    "```\n",
    "\n",
    "One of the beautiful things about python is that we don't need to _explicitly_ declare what type of variable we are declaring...we just asign it a value and python makes a guess about the type. In our example above, we gave the variable `a` the value `3`. Python sees the value is an integer and assumes you want `a` to be of type `int`.\n",
    "\n",
    "We have many types of data available to us in python: integers, floats, bool, strings, dataframes, etc...\n",
    "\n",
    "Let's make some new variables and assign different types of values to them. If the variable name you want to use has a couple of words, just replace the spaces with underscores _(this is called snake case)_ like so:\n",
    "\n",
    "```Python\n",
    "my_awesome_new_variable = \"Howdy! I'm a string!\"\n",
    "```"
   ]
  },
  {
   "cell_type": "markdown",
   "metadata": {},
   "source": [
    "---\n",
    "## Practice Section 1"
   ]
  },
  {
   "cell_type": "code",
   "execution_count": 2,
   "metadata": {},
   "outputs": [],
   "source": [
    "# Make a new variable called 'b' and give it an integer value:\n",
    "b = 7"
   ]
  },
  {
   "cell_type": "code",
   "execution_count": 3,
   "metadata": {},
   "outputs": [
    {
     "name": "stdout",
     "output_type": "stream",
     "text": [
      "7\n"
     ]
    }
   ],
   "source": [
    "# we can get python to print the value back out by using the 'print' function like this:\n",
    "print(b)"
   ]
  },
  {
   "cell_type": "code",
   "execution_count": null,
   "metadata": {},
   "outputs": [],
   "source": [
    "# Make a variable named 'x' and give it a decimal value (also known as a 'float'):\n"
   ]
  },
  {
   "cell_type": "code",
   "execution_count": null,
   "metadata": {},
   "outputs": [],
   "source": [
    "# Now make a variable named 'my_string' and give it a string:\n"
   ]
  },
  {
   "cell_type": "code",
   "execution_count": null,
   "metadata": {},
   "outputs": [],
   "source": [
    "# We can also assign values that are Boolean (True or False), make one called 'my_bool':\n"
   ]
  },
  {
   "cell_type": "code",
   "execution_count": null,
   "metadata": {},
   "outputs": [],
   "source": [
    "# Now print out the values for all your new variables:\n"
   ]
  },
  {
   "cell_type": "markdown",
   "metadata": {},
   "source": [
    "---\n",
    "\n",
    "# More Complex Data Structures\n",
    "\n",
    "Beyond just simple data types, python can also store more complex types. We can collect sets of values into structures like `lists`, `tuples`, and `dictionaries`.\n",
    "\n",
    "We tell python to assign a `list` using square brackets like so:\n",
    "```Python\n",
    "my_list = [1,2,4,8,'yup here's a string', 2.7, True]\n",
    "```\n",
    "\n",
    "Tuples are just like lists, except that once values are assigned, we cannot change them later _(a property called immutability)_. Also, we tell python we want a tuple by using parentheses:\n",
    "```Python\n",
    "some_tuple = (2.542, 786.5, 54)\n",
    "```\n",
    "\n",
    "Dictionaries are used to store collections of key / value pairs. Meaning that we can lookup a key in our dictionary to get it's value. We use curly braces to assign a dictionary:\n",
    "```Python\n",
    "new_dict = {\"key_1\": 2, \"another_key\": \"Yo!\", \"more_keys\": 3.786}\n",
    "```\n",
    "\n",
    "We can get single values back from our dictionary by calling a key with square brackets:\n",
    "```Python\n",
    "new_dict['key_1']\n",
    "```\n",
    "\n",
    "Let's get those fingers typing again! Make some lists, tuple, and dictionaries...after you make your dictionary, print one of the values by calling the key in square brackets."
   ]
  },
  {
   "cell_type": "markdown",
   "metadata": {},
   "source": [
    "---\n",
    "## Practice Section 2"
   ]
  },
  {
   "cell_type": "code",
   "execution_count": null,
   "metadata": {},
   "outputs": [],
   "source": [
    "# First up, make a list (remember to use square brackets!):\n"
   ]
  },
  {
   "cell_type": "code",
   "execution_count": null,
   "metadata": {},
   "outputs": [],
   "source": [
    "# Now make a tuple (use parentheses!):\n"
   ]
  },
  {
   "cell_type": "code",
   "execution_count": null,
   "metadata": {},
   "outputs": [],
   "source": [
    "# Lastly make a dictionary (use curly braces, seperate \"key\": value pairs with a comma):\n"
   ]
  },
  {
   "cell_type": "code",
   "execution_count": null,
   "metadata": {},
   "outputs": [],
   "source": [
    "# Now that you have a dictionary, print out the value associated with one of your keys.\n",
    "#    (remember to use your variable name followed by square brackets around your key name!)\n"
   ]
  },
  {
   "cell_type": "markdown",
   "metadata": {},
   "source": [
    "---\n",
    "# Getting Specific Values Back From Lists and Tuples\n",
    "\n",
    "We can use the index value to return that specific value back from a list or a tuple. We just have to specify the index number in square brackets...**NOTE:** python starts counting at zero!\n",
    "\n",
    "Let's see this in action:"
   ]
  },
  {
   "cell_type": "code",
   "execution_count": 4,
   "metadata": {},
   "outputs": [
    {
     "name": "stdout",
     "output_type": "stream",
     "text": [
      "1\n",
      "fourth element in the list\n",
      "[1, 2, 3.2]\n"
     ]
    }
   ],
   "source": [
    "example_list = [1, 2, 3.2, \"fourth element in the list\", \"last element\"]\n",
    "\n",
    "# We can get the fist element by using its index (remember 0 is the first index!):\n",
    "print(example_list[0])\n",
    "\n",
    "# We can get the fourth element by using the index 3:\n",
    "print(example_list[3])\n",
    "\n",
    "# We can also get a range of values back by using a semicolon:\n",
    "print(example_list[0:3])"
   ]
  },
  {
   "cell_type": "markdown",
   "metadata": {},
   "source": [
    "Notice how the range omitted the last index _(it did not print index 3 - the fourth element)_.\n",
    "\n",
    "There are a few short cuts that are helpful to know. For example, if we want the last element in a list but we may not want to count out exactly how many elements are in our list we can just use the index `-1` instead:"
   ]
  },
  {
   "cell_type": "code",
   "execution_count": 5,
   "metadata": {},
   "outputs": [
    {
     "data": {
      "text/plain": [
       "'last element'"
      ]
     },
     "execution_count": 5,
     "metadata": {},
     "output_type": "execute_result"
    }
   ],
   "source": [
    "example_list[-1]"
   ]
  },
  {
   "cell_type": "markdown",
   "metadata": {},
   "source": [
    "---\n",
    "# Flow Control\n",
    "\n",
    "Our programs will likely need to behave differently based on some conditions. We can use things like `if`/`elif`/`else` blocks or `for` loops to modifying what your script does based on some conditions.\n",
    "\n",
    "For example, maybe want to see if your customers are old enough to place an order for beer:\n",
    "\n",
    "```Python\n",
    "customer_age = 37\n",
    "\n",
    "if customer_age >= 21:\n",
    "    print(\"Yup, it's Miller time!\")\n",
    "\n",
    "else:\n",
    "    print(\"Nice try youngbuck! No beer for you...\")\n",
    "```\n",
    "\n",
    "Take a look at the script above...what do you think should be printed?\n",
    "\n",
    "Some things to take notice of:\n",
    "* notice that we have the keyword `if` followed by a condition, this condition **has** to evaluate to either True or False\n",
    "* After our condition, we need to put a colon\n",
    "* if the condition is True, python will execute all of the code in the block under the `if` statement that is indented 4 spaces\n",
    "* Python uses indentation rather than curly braces to define where code blocks start and end\n",
    "* The `else` statement is optional\n",
    "\n",
    "It's possible that we need to check for multiple conditions. For example, we may not want to sell beer to customers that are too old. We can stack these conditions together like this:\n",
    "\n",
    "```Python\n",
    "customer_age = 37\n",
    "\n",
    "if customer_age >= 21 and customer_age < 100:\n",
    "    print(\"Go ahead, grab a cold one!\")\n",
    "\n",
    "elif customer_age >= 100:\n",
    "    print(\"Whoa there oldie...you may want to check with your doctor first.\")\n",
    "          \n",
    "else:\n",
    "    print(\"Nope!\")\n",
    "```"
   ]
  },
  {
   "cell_type": "markdown",
   "metadata": {},
   "source": [
    "---\n",
    "## Practice Section 3"
   ]
  },
  {
   "cell_type": "code",
   "execution_count": null,
   "metadata": {},
   "outputs": [],
   "source": [
    "# Create two integer variables, then write an if/elif/else block that prints whether the \n",
    "#    two variables are equal, the first is less than the second, or the fist is greater\n",
    "#    than the second:\n"
   ]
  },
  {
   "cell_type": "markdown",
   "metadata": {},
   "source": [
    "---\n",
    "# For Loops\n",
    "\n",
    "For loops are perfect for when you want to repeat a block of code multiple times. For example, we might want to check to see if each one of our customers are able to order beer. We can have our block of code loop through each customer's age one-by-one using a list of ages and a foor loop.\n",
    "\n",
    "Let's see this in action:"
   ]
  },
  {
   "cell_type": "code",
   "execution_count": 6,
   "metadata": {},
   "outputs": [
    {
     "name": "stdout",
     "output_type": "stream",
     "text": [
      "Nope!\n",
      "Nope!\n",
      "Whoa there oldie...you may want to check with your doctor first.\n",
      "Go ahead, grab a cold one!\n",
      "Go ahead, grab a cold one!\n"
     ]
    }
   ],
   "source": [
    "customer_ages = [19, 3, 105, 37, 22]\n",
    "\n",
    "for age in customer_ages:\n",
    "    if age >= 21 and age < 100:\n",
    "        print(\"Go ahead, grab a cold one!\")\n",
    "\n",
    "    elif age >= 100:\n",
    "        print(\"Whoa there oldie...you may want to check with your doctor first.\")\n",
    "\n",
    "    else:\n",
    "        print(\"Nope!\")"
   ]
  },
  {
   "cell_type": "markdown",
   "metadata": {},
   "source": [
    "Some things to notice:\n",
    "* Just like `if`/`else` we start with a special keyword, in this case `for`\n",
    "* We define a temporary variable that holds the values we are iterating over _(here we called it `age` but we can call it whatever we want)_\n",
    "* Just as before we use indentation to tell python what we want to execute for each iteration\n",
    "\n",
    "Watch out for infinte loops! If we accidentally write a loop that continues indefintely our program will never stop running!! This is more of an issue for `while` loops, but in case you find yourself with a wild loop running out control, just interupt the kernel by pressing the square stop button next to the `Run` button in the control bar _(or by hitting `Ctrl` and `c` if you are running your script from the command line/terminal)._"
   ]
  },
  {
   "cell_type": "markdown",
   "metadata": {},
   "source": [
    "---\n",
    "## Practice Section 4"
   ]
  },
  {
   "cell_type": "code",
   "execution_count": null,
   "metadata": {},
   "outputs": [],
   "source": [
    "# Create a list of strings, then write a for loop to print the number of characters in each \n",
    "#    string in your list\n",
    "\n",
    "# HINT: Use the len() function to get the length of a string\n"
   ]
  },
  {
   "cell_type": "markdown",
   "metadata": {},
   "source": [
    "---\n",
    "# Functions\n",
    "\n",
    "We often need to write our own functions that do some specific task that isn't already built into python. This are super handy when we need to run that block of code over and over again.\n",
    "\n",
    "Imagine we have a program that needs us to convert from centimeters to inches. This program needs to do this conversion a dozen times. If we just write out the formula out each time we need it, we have a dozen identical blocks of code, which is pretty annoying and redundant. Also, what if our manager changes the requirements, and decides they want it converted to feet instead of inches? We now have to go through and find every place we did the conversion and update it! Even worse, maybe we missed one after the update...uh-oh, troubles are on the horizon!\n",
    "\n",
    "This is why it is good practice to keep your programs DRY.\n",
    "\n",
    "DRY = \"Don't Repeat Yourself\"\n",
    "\n",
    "When you write a function to do this conversion, it only lives in one place and can be easily updated no matter how many times our program has to call it!\n",
    "\n",
    "Let's see what a function definition looks like:\n",
    "\n",
    "```Python\n",
    "def convert_len(input_cm):\n",
    "    \"\"\"\n",
    "    Input a numeric value for centimeters and return the equivalent length in inches\n",
    "    \"\"\"\n",
    "    inches = input_cm / 2.54\n",
    "    return inches\n",
    "```\n",
    "\n",
    "Here's what you need:\n",
    "* Start with the keyword `def`\n",
    "* Next we give our function a unique name _(make it snake case)_\n",
    "* Follow the name with a set of parentheses\n",
    "* If your function needs some input from the user _(we call these parameters)_ name them inside the parentheses...if you need more than one, seperate them with commas\n",
    "* End your definition line with a colon\n",
    "* Make sure you indent all the code block you want your function to run!\n",
    "* Also, the `return` statement is what you want your function to give back when it's finished running _(this is actually optional - your function doesn't always have to return something)_\n",
    "\n",
    "The example above also has a documentation string on the first line of the function block. This is also optional, but it makes your programs so much easier to read for other programmers _(or for ourselves when we look back over something we wrote a while ago)_.\n",
    "\n",
    "Let's pull some of this together and create a list of lengths in centimeters, and then use a `for` loop to covert all of those lengths to inches using our function above:"
   ]
  },
  {
   "cell_type": "code",
   "execution_count": 8,
   "metadata": {},
   "outputs": [
    {
     "name": "stdout",
     "output_type": "stream",
     "text": [
      "0.9448818897637795\n",
      "5.736220472440945\n",
      "98.4251968503937\n",
      "0.3531496062992126\n"
     ]
    }
   ],
   "source": [
    "def convert_cm_len(input_cm):\n",
    "    \"\"\"\n",
    "    Input a numeric value for centimeters and return the equivalent length in inches\n",
    "    \"\"\"\n",
    "    inches = input_cm / 2.54\n",
    "    return inches\n",
    "\n",
    "cm_lengths = [2.4, 14.57, 250, 0.897]\n",
    "\n",
    "for cm in cm_lengths:\n",
    "    print(convert_cm_len(cm))"
   ]
  },
  {
   "cell_type": "markdown",
   "metadata": {},
   "source": [
    "---\n",
    "## Practice Section 5"
   ]
  },
  {
   "cell_type": "code",
   "execution_count": null,
   "metadata": {},
   "outputs": [],
   "source": [
    "# Write a function that takes in lengths in inches and converts them to feet\n",
    "#    hint: there are 12 inches in a foot\n",
    "\n",
    "\n",
    "# Now create a list of lengths of inches:\n",
    "\n",
    "\n",
    "# Use a for loop to convert each of these lengths to feet using your new function above:\n",
    "\n",
    "\n",
    "\n",
    "# BONUS: write another function that uses our earlier function `convert_cm_len` to take in \n",
    "#    centimeters and converts them to feet:\n"
   ]
  },
  {
   "cell_type": "markdown",
   "metadata": {},
   "source": [
    "---\n",
    "# Libraries\n",
    "\n",
    "One of python's strengths is data manipulation and analysis. Often this analysis is done on  tabular data _(like spreadsheets)_.\n",
    "\n",
    "Because python is open source, there are tons of libraries available to us _(for free!)_ tha allows us to extend what we can do. All we need to do is install and load the packages we want.\n",
    "\n",
    "If you installed Anaconda on your machine, then you've already got a whole buch of libraries installed that help us with common data manipulation tasks like `pandas` and `numpy`. Beyond that it also installed lot's of common packages for data science as well _(like `sklearn` and `scipy`)_. All we need to do is import them here in our program.\n",
    "\n",
    "**If you didn't install Anaconda**, you may need to go install these packages for Python3 from your command line or terminal.\n",
    "\n",
    "From a mac, open up `Terminal` and type the following:\n",
    "```pip3 install pandas```\n",
    "\n",
    "From a PC, open up `Command Prompt` and type the following:\n",
    "```python -m pip install pandas```\n",
    "\n",
    "These commands tell your computer to connect to the central python repository and download the latest version of the pandas package.\n",
    "\n",
    "Now, in our program we just need to import it, which we can do like so:\n",
    "```Python\n",
    "import pandas as pd\n",
    "```\n",
    "\n",
    "Notice that because programmers are usually lazy, most of these common libraries get imported with an alias that is simpler and shorter _(and easy to type)_ which helps keep our python code shorter and easier to read.\n",
    "\n",
    "Scroll all the back up to the first cell in this notebook...see all those import statements? That is thousands of hours of development time that we loaded into our program with a few lines of typing _(for free!)_.\n",
    "\n",
    "We can now start using the pandas library to work with tabular data in our python program!"
   ]
  },
  {
   "cell_type": "markdown",
   "metadata": {},
   "source": [
    "---\n",
    "# Pandas\n",
    "\n",
    "The main data structure for pandas is tabular data, which is called a DataFrame. We can enter this data in ourselves manually. More likely, we will be getting this data from other sources like a SQL query to our database or from an external file like a `.csv` file.\n",
    "\n",
    "We can create a new, empty dataframe like this:\n",
    "```Python\n",
    "my_df = pd.DataFrame()\n",
    "```\n",
    "\n",
    "We can then add series of values into columns of our dataframe like this:\n",
    "```Python\n",
    "my_df['First Column'] = [1.6, 2.0, 3.77, 0.917]\n",
    "my_df['Second Column'] = ['string 1', 'string 2', 'string 3', 'string 4']\n",
    "my_df['Mixed Column'] = [1, 54.78, 'yuck, a string!', True]\n",
    "```\n",
    "\n",
    "Notice that we can have different types of data in the same column.\n",
    "\n",
    "Let's create our fist dataframe and take a look at it:"
   ]
  },
  {
   "cell_type": "code",
   "execution_count": 9,
   "metadata": {},
   "outputs": [
    {
     "data": {
      "text/html": [
       "<div>\n",
       "<style scoped>\n",
       "    .dataframe tbody tr th:only-of-type {\n",
       "        vertical-align: middle;\n",
       "    }\n",
       "\n",
       "    .dataframe tbody tr th {\n",
       "        vertical-align: top;\n",
       "    }\n",
       "\n",
       "    .dataframe thead th {\n",
       "        text-align: right;\n",
       "    }\n",
       "</style>\n",
       "<table border=\"1\" class=\"dataframe\">\n",
       "  <thead>\n",
       "    <tr style=\"text-align: right;\">\n",
       "      <th></th>\n",
       "      <th>First Column</th>\n",
       "      <th>Second Column</th>\n",
       "      <th>Mixed Column</th>\n",
       "    </tr>\n",
       "  </thead>\n",
       "  <tbody>\n",
       "    <tr>\n",
       "      <td>0</td>\n",
       "      <td>1.600</td>\n",
       "      <td>string 1</td>\n",
       "      <td>1</td>\n",
       "    </tr>\n",
       "    <tr>\n",
       "      <td>1</td>\n",
       "      <td>2.000</td>\n",
       "      <td>string 2</td>\n",
       "      <td>54.78</td>\n",
       "    </tr>\n",
       "    <tr>\n",
       "      <td>2</td>\n",
       "      <td>3.770</td>\n",
       "      <td>string 3</td>\n",
       "      <td>yuck, a string!</td>\n",
       "    </tr>\n",
       "    <tr>\n",
       "      <td>3</td>\n",
       "      <td>0.917</td>\n",
       "      <td>string 4</td>\n",
       "      <td>True</td>\n",
       "    </tr>\n",
       "  </tbody>\n",
       "</table>\n",
       "</div>"
      ],
      "text/plain": [
       "   First Column Second Column     Mixed Column\n",
       "0         1.600      string 1                1\n",
       "1         2.000      string 2            54.78\n",
       "2         3.770      string 3  yuck, a string!\n",
       "3         0.917      string 4             True"
      ]
     },
     "execution_count": 9,
     "metadata": {},
     "output_type": "execute_result"
    }
   ],
   "source": [
    "my_df = pd.DataFrame()\n",
    "\n",
    "my_df['First Column'] = [1.6, 2.0, 3.77, 0.917]\n",
    "my_df['Second Column'] = ['string 1', 'string 2', 'string 3', 'string 4']\n",
    "my_df['Mixed Column'] = [1, 54.78, 'yuck, a string!', True]\n",
    "\n",
    "my_df"
   ]
  },
  {
   "cell_type": "markdown",
   "metadata": {},
   "source": [
    "If we want to see how many rows and columns our datafrmae has, we just need to use the `shape` argument:"
   ]
  },
  {
   "cell_type": "code",
   "execution_count": 10,
   "metadata": {},
   "outputs": [
    {
     "data": {
      "text/plain": [
       "(4, 3)"
      ]
     },
     "execution_count": 10,
     "metadata": {},
     "output_type": "execute_result"
    }
   ],
   "source": [
    "my_df.shape"
   ]
  },
  {
   "cell_type": "markdown",
   "metadata": {},
   "source": [
    "If we want to know what type the data in each column is, we can use the `dtypes` attribute:"
   ]
  },
  {
   "cell_type": "code",
   "execution_count": 13,
   "metadata": {},
   "outputs": [
    {
     "data": {
      "text/plain": [
       "First Column     float64\n",
       "Second Column     object\n",
       "Mixed Column      object\n",
       "dtype: object"
      ]
     },
     "execution_count": 13,
     "metadata": {},
     "output_type": "execute_result"
    }
   ],
   "source": [
    "my_df.dtypes"
   ]
  },
  {
   "cell_type": "markdown",
   "metadata": {},
   "source": [
    "Notice that our `Mixed Column` is of type `object` because it has a mixture of differing types!"
   ]
  },
  {
   "cell_type": "markdown",
   "metadata": {},
   "source": [
    "We can also get a sense of the distribution of the data in our dataframe using the `describe()` method. This only works on columns that are strictly numeric values!"
   ]
  },
  {
   "cell_type": "code",
   "execution_count": 14,
   "metadata": {},
   "outputs": [
    {
     "data": {
      "text/html": [
       "<div>\n",
       "<style scoped>\n",
       "    .dataframe tbody tr th:only-of-type {\n",
       "        vertical-align: middle;\n",
       "    }\n",
       "\n",
       "    .dataframe tbody tr th {\n",
       "        vertical-align: top;\n",
       "    }\n",
       "\n",
       "    .dataframe thead th {\n",
       "        text-align: right;\n",
       "    }\n",
       "</style>\n",
       "<table border=\"1\" class=\"dataframe\">\n",
       "  <thead>\n",
       "    <tr style=\"text-align: right;\">\n",
       "      <th></th>\n",
       "      <th>First Column</th>\n",
       "    </tr>\n",
       "  </thead>\n",
       "  <tbody>\n",
       "    <tr>\n",
       "      <td>count</td>\n",
       "      <td>4.000000</td>\n",
       "    </tr>\n",
       "    <tr>\n",
       "      <td>mean</td>\n",
       "      <td>2.071750</td>\n",
       "    </tr>\n",
       "    <tr>\n",
       "      <td>std</td>\n",
       "      <td>1.217264</td>\n",
       "    </tr>\n",
       "    <tr>\n",
       "      <td>min</td>\n",
       "      <td>0.917000</td>\n",
       "    </tr>\n",
       "    <tr>\n",
       "      <td>25%</td>\n",
       "      <td>1.429250</td>\n",
       "    </tr>\n",
       "    <tr>\n",
       "      <td>50%</td>\n",
       "      <td>1.800000</td>\n",
       "    </tr>\n",
       "    <tr>\n",
       "      <td>75%</td>\n",
       "      <td>2.442500</td>\n",
       "    </tr>\n",
       "    <tr>\n",
       "      <td>max</td>\n",
       "      <td>3.770000</td>\n",
       "    </tr>\n",
       "  </tbody>\n",
       "</table>\n",
       "</div>"
      ],
      "text/plain": [
       "       First Column\n",
       "count      4.000000\n",
       "mean       2.071750\n",
       "std        1.217264\n",
       "min        0.917000\n",
       "25%        1.429250\n",
       "50%        1.800000\n",
       "75%        2.442500\n",
       "max        3.770000"
      ]
     },
     "execution_count": 14,
     "metadata": {},
     "output_type": "execute_result"
    }
   ],
   "source": [
    "my_df.describe()"
   ]
  },
  {
   "cell_type": "markdown",
   "metadata": {},
   "source": [
    "Just like our lists from above, we can select specific values out of our dataframes. We can grab whole columns:\n",
    "```Python\n",
    "my_df['First Column']\n",
    "```\n",
    "\n",
    "Whole rows:\n",
    "```Python\n",
    "my_df[0]\n",
    "```\n",
    "\n",
    "Or only specific rows and columns:\n",
    "```Python\n",
    "my_df[0:2, ['Second Column', 'Mixed Column']]\n",
    "```\n",
    "\n",
    "Because our tables have 2 dimensions _(rows and columns)_ we have to give the indeces for both dimensions we want! This is called `slicing` our dataframe.\n",
    "\n",
    "One thing to notice, unlike with lists, when we give ranges it will include the index given for the end of the range _(so index 0:2 will give rows 0, 1, and 2)_."
   ]
  },
  {
   "cell_type": "markdown",
   "metadata": {},
   "source": [
    "---\n",
    "## Practice Section 6"
   ]
  },
  {
   "cell_type": "code",
   "execution_count": null,
   "metadata": {},
   "outputs": [],
   "source": [
    "# Create a blank DataFrame with a few columns each with several values:\n",
    "\n",
    "\n",
    "# Now check how many rows anf columns your DataFrame has:\n",
    "\n",
    "\n",
    "# Check what data types each of your DataFrame's columns are:\n",
    "\n"
   ]
  },
  {
   "cell_type": "markdown",
   "metadata": {},
   "source": [
    "The pandas library has tons of features included in it! We are barely scratching the surface here today. There are lots of different ways to load in data and lots of ways to mask and slice that data depending on what your program needs to do.\n",
    "\n",
    "Sometimes you will see slicing done with `.at()`, `.loc()`, or with `.ioc()`. Don't worry about this for the time being, but just be aware that there is a whole robust ecosystem of data analysis available to you in pandas!"
   ]
  },
  {
   "cell_type": "markdown",
   "metadata": {},
   "source": [
    "----\n",
    "# Ordering and Masking\n",
    "\n",
    "A lot of times we will want to see the our dataframe ordered by the values in some column. For example, we might want to look at our dataframe ranked by the values in `First Column`:"
   ]
  },
  {
   "cell_type": "code",
   "execution_count": 15,
   "metadata": {},
   "outputs": [
    {
     "data": {
      "text/html": [
       "<div>\n",
       "<style scoped>\n",
       "    .dataframe tbody tr th:only-of-type {\n",
       "        vertical-align: middle;\n",
       "    }\n",
       "\n",
       "    .dataframe tbody tr th {\n",
       "        vertical-align: top;\n",
       "    }\n",
       "\n",
       "    .dataframe thead th {\n",
       "        text-align: right;\n",
       "    }\n",
       "</style>\n",
       "<table border=\"1\" class=\"dataframe\">\n",
       "  <thead>\n",
       "    <tr style=\"text-align: right;\">\n",
       "      <th></th>\n",
       "      <th>First Column</th>\n",
       "      <th>Second Column</th>\n",
       "      <th>Mixed Column</th>\n",
       "    </tr>\n",
       "  </thead>\n",
       "  <tbody>\n",
       "    <tr>\n",
       "      <td>3</td>\n",
       "      <td>0.917</td>\n",
       "      <td>string 4</td>\n",
       "      <td>True</td>\n",
       "    </tr>\n",
       "    <tr>\n",
       "      <td>0</td>\n",
       "      <td>1.600</td>\n",
       "      <td>string 1</td>\n",
       "      <td>1</td>\n",
       "    </tr>\n",
       "    <tr>\n",
       "      <td>1</td>\n",
       "      <td>2.000</td>\n",
       "      <td>string 2</td>\n",
       "      <td>54.78</td>\n",
       "    </tr>\n",
       "    <tr>\n",
       "      <td>2</td>\n",
       "      <td>3.770</td>\n",
       "      <td>string 3</td>\n",
       "      <td>yuck, a string!</td>\n",
       "    </tr>\n",
       "  </tbody>\n",
       "</table>\n",
       "</div>"
      ],
      "text/plain": [
       "   First Column Second Column     Mixed Column\n",
       "3         0.917      string 4             True\n",
       "0         1.600      string 1                1\n",
       "1         2.000      string 2            54.78\n",
       "2         3.770      string 3  yuck, a string!"
      ]
     },
     "execution_count": 15,
     "metadata": {},
     "output_type": "execute_result"
    }
   ],
   "source": [
    "my_df.sort_values(by='First Column')"
   ]
  },
  {
   "cell_type": "markdown",
   "metadata": {},
   "source": [
    "Hmmm...pandas assumes we want the values ranked in ascending order. But, if we want them descending, we just have to modify one of the default argument values like this:"
   ]
  },
  {
   "cell_type": "code",
   "execution_count": 16,
   "metadata": {},
   "outputs": [
    {
     "data": {
      "text/html": [
       "<div>\n",
       "<style scoped>\n",
       "    .dataframe tbody tr th:only-of-type {\n",
       "        vertical-align: middle;\n",
       "    }\n",
       "\n",
       "    .dataframe tbody tr th {\n",
       "        vertical-align: top;\n",
       "    }\n",
       "\n",
       "    .dataframe thead th {\n",
       "        text-align: right;\n",
       "    }\n",
       "</style>\n",
       "<table border=\"1\" class=\"dataframe\">\n",
       "  <thead>\n",
       "    <tr style=\"text-align: right;\">\n",
       "      <th></th>\n",
       "      <th>First Column</th>\n",
       "      <th>Second Column</th>\n",
       "      <th>Mixed Column</th>\n",
       "    </tr>\n",
       "  </thead>\n",
       "  <tbody>\n",
       "    <tr>\n",
       "      <td>2</td>\n",
       "      <td>3.770</td>\n",
       "      <td>string 3</td>\n",
       "      <td>yuck, a string!</td>\n",
       "    </tr>\n",
       "    <tr>\n",
       "      <td>1</td>\n",
       "      <td>2.000</td>\n",
       "      <td>string 2</td>\n",
       "      <td>54.78</td>\n",
       "    </tr>\n",
       "    <tr>\n",
       "      <td>0</td>\n",
       "      <td>1.600</td>\n",
       "      <td>string 1</td>\n",
       "      <td>1</td>\n",
       "    </tr>\n",
       "    <tr>\n",
       "      <td>3</td>\n",
       "      <td>0.917</td>\n",
       "      <td>string 4</td>\n",
       "      <td>True</td>\n",
       "    </tr>\n",
       "  </tbody>\n",
       "</table>\n",
       "</div>"
      ],
      "text/plain": [
       "   First Column Second Column     Mixed Column\n",
       "2         3.770      string 3  yuck, a string!\n",
       "1         2.000      string 2            54.78\n",
       "0         1.600      string 1                1\n",
       "3         0.917      string 4             True"
      ]
     },
     "execution_count": 16,
     "metadata": {},
     "output_type": "execute_result"
    }
   ],
   "source": [
    "my_df.sort_values(by='First Column', ascending=False)"
   ]
  },
  {
   "cell_type": "markdown",
   "metadata": {},
   "source": [
    "Also, notice that pandas by default doesn't want to modify the underlying dataframe _(so we don't accidentally mess up our data)_ :"
   ]
  },
  {
   "cell_type": "code",
   "execution_count": 17,
   "metadata": {},
   "outputs": [
    {
     "data": {
      "text/html": [
       "<div>\n",
       "<style scoped>\n",
       "    .dataframe tbody tr th:only-of-type {\n",
       "        vertical-align: middle;\n",
       "    }\n",
       "\n",
       "    .dataframe tbody tr th {\n",
       "        vertical-align: top;\n",
       "    }\n",
       "\n",
       "    .dataframe thead th {\n",
       "        text-align: right;\n",
       "    }\n",
       "</style>\n",
       "<table border=\"1\" class=\"dataframe\">\n",
       "  <thead>\n",
       "    <tr style=\"text-align: right;\">\n",
       "      <th></th>\n",
       "      <th>First Column</th>\n",
       "      <th>Second Column</th>\n",
       "      <th>Mixed Column</th>\n",
       "    </tr>\n",
       "  </thead>\n",
       "  <tbody>\n",
       "    <tr>\n",
       "      <td>0</td>\n",
       "      <td>1.600</td>\n",
       "      <td>string 1</td>\n",
       "      <td>1</td>\n",
       "    </tr>\n",
       "    <tr>\n",
       "      <td>1</td>\n",
       "      <td>2.000</td>\n",
       "      <td>string 2</td>\n",
       "      <td>54.78</td>\n",
       "    </tr>\n",
       "    <tr>\n",
       "      <td>2</td>\n",
       "      <td>3.770</td>\n",
       "      <td>string 3</td>\n",
       "      <td>yuck, a string!</td>\n",
       "    </tr>\n",
       "    <tr>\n",
       "      <td>3</td>\n",
       "      <td>0.917</td>\n",
       "      <td>string 4</td>\n",
       "      <td>True</td>\n",
       "    </tr>\n",
       "  </tbody>\n",
       "</table>\n",
       "</div>"
      ],
      "text/plain": [
       "   First Column Second Column     Mixed Column\n",
       "0         1.600      string 1                1\n",
       "1         2.000      string 2            54.78\n",
       "2         3.770      string 3  yuck, a string!\n",
       "3         0.917      string 4             True"
      ]
     },
     "execution_count": 17,
     "metadata": {},
     "output_type": "execute_result"
    }
   ],
   "source": [
    "my_df"
   ]
  },
  {
   "cell_type": "markdown",
   "metadata": {},
   "source": [
    "Typically, when we want pandas to make the modifications permanent we need to update the `inplace` parameter:"
   ]
  },
  {
   "cell_type": "code",
   "execution_count": 18,
   "metadata": {},
   "outputs": [],
   "source": [
    "my_df.sort_values(by='First Column', ascending=False, inplace=True)"
   ]
  },
  {
   "cell_type": "code",
   "execution_count": 19,
   "metadata": {},
   "outputs": [
    {
     "data": {
      "text/html": [
       "<div>\n",
       "<style scoped>\n",
       "    .dataframe tbody tr th:only-of-type {\n",
       "        vertical-align: middle;\n",
       "    }\n",
       "\n",
       "    .dataframe tbody tr th {\n",
       "        vertical-align: top;\n",
       "    }\n",
       "\n",
       "    .dataframe thead th {\n",
       "        text-align: right;\n",
       "    }\n",
       "</style>\n",
       "<table border=\"1\" class=\"dataframe\">\n",
       "  <thead>\n",
       "    <tr style=\"text-align: right;\">\n",
       "      <th></th>\n",
       "      <th>First Column</th>\n",
       "      <th>Second Column</th>\n",
       "      <th>Mixed Column</th>\n",
       "    </tr>\n",
       "  </thead>\n",
       "  <tbody>\n",
       "    <tr>\n",
       "      <td>2</td>\n",
       "      <td>3.770</td>\n",
       "      <td>string 3</td>\n",
       "      <td>yuck, a string!</td>\n",
       "    </tr>\n",
       "    <tr>\n",
       "      <td>1</td>\n",
       "      <td>2.000</td>\n",
       "      <td>string 2</td>\n",
       "      <td>54.78</td>\n",
       "    </tr>\n",
       "    <tr>\n",
       "      <td>0</td>\n",
       "      <td>1.600</td>\n",
       "      <td>string 1</td>\n",
       "      <td>1</td>\n",
       "    </tr>\n",
       "    <tr>\n",
       "      <td>3</td>\n",
       "      <td>0.917</td>\n",
       "      <td>string 4</td>\n",
       "      <td>True</td>\n",
       "    </tr>\n",
       "  </tbody>\n",
       "</table>\n",
       "</div>"
      ],
      "text/plain": [
       "   First Column Second Column     Mixed Column\n",
       "2         3.770      string 3  yuck, a string!\n",
       "1         2.000      string 2            54.78\n",
       "0         1.600      string 1                1\n",
       "3         0.917      string 4             True"
      ]
     },
     "execution_count": 19,
     "metadata": {},
     "output_type": "execute_result"
    }
   ],
   "source": [
    "my_df"
   ]
  },
  {
   "cell_type": "markdown",
   "metadata": {},
   "source": [
    "Masking is where we only want to get the rows back that meet some condition. For example, maybe we only want to get rows back where the value in the first column are greater than or equal to 2.\n",
    "\n",
    "Here's how we mask a DataFrame:"
   ]
  },
  {
   "cell_type": "code",
   "execution_count": 20,
   "metadata": {},
   "outputs": [
    {
     "data": {
      "text/html": [
       "<div>\n",
       "<style scoped>\n",
       "    .dataframe tbody tr th:only-of-type {\n",
       "        vertical-align: middle;\n",
       "    }\n",
       "\n",
       "    .dataframe tbody tr th {\n",
       "        vertical-align: top;\n",
       "    }\n",
       "\n",
       "    .dataframe thead th {\n",
       "        text-align: right;\n",
       "    }\n",
       "</style>\n",
       "<table border=\"1\" class=\"dataframe\">\n",
       "  <thead>\n",
       "    <tr style=\"text-align: right;\">\n",
       "      <th></th>\n",
       "      <th>First Column</th>\n",
       "      <th>Second Column</th>\n",
       "      <th>Mixed Column</th>\n",
       "    </tr>\n",
       "  </thead>\n",
       "  <tbody>\n",
       "    <tr>\n",
       "      <td>2</td>\n",
       "      <td>3.77</td>\n",
       "      <td>string 3</td>\n",
       "      <td>yuck, a string!</td>\n",
       "    </tr>\n",
       "    <tr>\n",
       "      <td>1</td>\n",
       "      <td>2.00</td>\n",
       "      <td>string 2</td>\n",
       "      <td>54.78</td>\n",
       "    </tr>\n",
       "  </tbody>\n",
       "</table>\n",
       "</div>"
      ],
      "text/plain": [
       "   First Column Second Column     Mixed Column\n",
       "2          3.77      string 3  yuck, a string!\n",
       "1          2.00      string 2            54.78"
      ]
     },
     "execution_count": 20,
     "metadata": {},
     "output_type": "execute_result"
    }
   ],
   "source": [
    "my_df[my_df['First Column'] >= 2]"
   ]
  },
  {
   "cell_type": "code",
   "execution_count": null,
   "metadata": {},
   "outputs": [],
   "source": []
  }
 ],
 "metadata": {
  "kernelspec": {
   "display_name": "Python 3",
   "language": "python",
   "name": "python3"
  },
  "language_info": {
   "codemirror_mode": {
    "name": "ipython",
    "version": 3
   },
   "file_extension": ".py",
   "mimetype": "text/x-python",
   "name": "python",
   "nbconvert_exporter": "python",
   "pygments_lexer": "ipython3",
   "version": "3.7.4"
  }
 },
 "nbformat": 4,
 "nbformat_minor": 2
}
